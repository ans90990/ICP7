{
  "nbformat": 4,
  "nbformat_minor": 0,
  "metadata": {
    "colab": {
      "provenance": [],
      "authorship_tag": "ABX9TyOYlUd/BUDD9U/2etcQenVp",
      "include_colab_link": true
    },
    "kernelspec": {
      "name": "python3",
      "display_name": "Python 3"
    },
    "language_info": {
      "name": "python"
    }
  },
  "cells": [
    {
      "cell_type": "markdown",
      "metadata": {
        "id": "view-in-github",
        "colab_type": "text"
      },
      "source": [
        "<a href=\"https://colab.research.google.com/github/ans90990/ICP7/blob/main/imageclassification_2.ipynb\" target=\"_parent\"><img src=\"https://colab.research.google.com/assets/colab-badge.svg\" alt=\"Open In Colab\"/></a>"
      ]
    },
    {
      "cell_type": "code",
      "execution_count": 5,
      "metadata": {
        "colab": {
          "base_uri": "https://localhost:8080/"
        },
        "id": "ddux7sjgmLEx",
        "outputId": "751c2a38-16f3-4418-df88-61126b448e93"
      },
      "outputs": [
        {
          "output_type": "stream",
          "name": "stdout",
          "text": [
            "(28, 28)\n",
            "784\n",
            "Epoch 1/10\n",
            "235/235 [==============================] - 10s 41ms/step - loss: 0.3101 - accuracy: 0.9027 - val_loss: 0.1534 - val_accuracy: 0.9528\n",
            "Epoch 2/10\n",
            "235/235 [==============================] - 10s 41ms/step - loss: 0.0976 - accuracy: 0.9697 - val_loss: 0.2085 - val_accuracy: 0.9366\n",
            "Epoch 3/10\n",
            "235/235 [==============================] - 8s 33ms/step - loss: 0.0628 - accuracy: 0.9804 - val_loss: 0.0785 - val_accuracy: 0.9758\n",
            "Epoch 4/10\n",
            "235/235 [==============================] - 9s 39ms/step - loss: 0.0432 - accuracy: 0.9867 - val_loss: 0.0656 - val_accuracy: 0.9786\n",
            "Epoch 5/10\n",
            "235/235 [==============================] - 9s 40ms/step - loss: 0.0316 - accuracy: 0.9900 - val_loss: 0.0866 - val_accuracy: 0.9767\n",
            "Epoch 6/10\n",
            "235/235 [==============================] - 8s 34ms/step - loss: 0.0231 - accuracy: 0.9923 - val_loss: 0.1075 - val_accuracy: 0.9753\n",
            "Epoch 7/10\n",
            "235/235 [==============================] - 9s 40ms/step - loss: 0.0173 - accuracy: 0.9942 - val_loss: 0.0841 - val_accuracy: 0.9782\n",
            "Epoch 8/10\n",
            "235/235 [==============================] - 9s 40ms/step - loss: 0.0151 - accuracy: 0.9948 - val_loss: 0.0850 - val_accuracy: 0.9792\n",
            "Epoch 9/10\n",
            "235/235 [==============================] - 8s 34ms/step - loss: 0.0109 - accuracy: 0.9966 - val_loss: 0.0772 - val_accuracy: 0.9828\n",
            "Epoch 10/10\n",
            "235/235 [==============================] - 9s 40ms/step - loss: 0.0102 - accuracy: 0.9966 - val_loss: 0.0855 - val_accuracy: 0.9812\n"
          ]
        }
      ],
      "source": [
        "from keras import Sequential\n",
        "from keras.datasets import mnist\n",
        "import numpy as np\n",
        "from keras.layers import Dense\n",
        "from keras.utils import to_categorical\n",
        "\n",
        "(train_images,train_labels),(test_images, test_labels) = mnist.load_data()\n",
        "\n",
        "print(train_images.shape[1:])\n",
        "#process the data\n",
        "#1. convert each image of shape 28*28 to 784 dimensional which will be fed to the network as a single feature\n",
        "dimData = np.prod(train_images.shape[1:])\n",
        "print(dimData)\n",
        "train_data = train_images.reshape(train_images.shape[0],dimData)\n",
        "test_data = test_images.reshape(test_images.shape[0],dimData)\n",
        "\n",
        "#convert data to float and scale values between 0 and 1\n",
        "train_data = train_data.astype('float')\n",
        "test_data = test_data.astype('float')\n",
        "#scale data\n",
        "train_data /=255.0\n",
        "test_data /=255.0\n",
        "#change the labels frominteger to one-hot encoding. to_categorical is doing the same thing as LabelEncoder()\n",
        "train_labels_one_hot = to_categorical(train_labels)\n",
        "test_labels_one_hot = to_categorical(test_labels)\n",
        "\n",
        "#creating network\n",
        "model = Sequential()\n",
        "model.add(Dense(512, activation='relu', input_shape=(dimData,)))\n",
        "model.add(Dense(512, activation='relu'))\n",
        "model.add(Dense(512, activation='relu'))\n",
        "model.add(Dense(10, activation='softmax'))\n",
        "\n",
        "model.compile(optimizer='rmsprop', loss='categorical_crossentropy', metrics=['accuracy'])\n",
        "history = model.fit(train_data, train_labels_one_hot, batch_size=256, epochs=10, verbose=1,\n",
        "                   validation_data=(test_data, test_labels_one_hot))"
      ]
    }
  ]
}